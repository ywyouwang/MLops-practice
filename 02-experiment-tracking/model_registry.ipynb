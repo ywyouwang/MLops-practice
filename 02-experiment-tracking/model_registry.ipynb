{
 "cells": [
  {
   "cell_type": "markdown",
   "id": "c1947b3f",
   "metadata": {},
   "source": [
    "# Interact with Mlflow with MlflowClient"
   ]
  },
  {
   "cell_type": "code",
   "execution_count": null,
   "id": "6784d3a7",
   "metadata": {},
   "outputs": [],
   "source": [
    "from mlflow.tracking import MlflowClient\n",
    "\n",
    "MLFLOW_TRACKING_URI = 'sqlite:///mlflow.db'\n",
    "client = MlflowClient(tracking_uri= MLFLOW_TRACKING_URI)\n"
   ]
  },
  {
   "cell_type": "code",
   "execution_count": 3,
   "id": "945a688c",
   "metadata": {},
   "outputs": [
    {
     "data": {
      "text/plain": [
       "[<Experiment: artifact_location='./mlruns/1', creation_time=1754419695541, experiment_id='1', last_update_time=1754419695541, lifecycle_stage='active', name='nyc-taxi', tags={}>,\n",
       " <Experiment: artifact_location='./mlruns/0', creation_time=1754418733731, experiment_id='0', last_update_time=1754418733731, lifecycle_stage='active', name='Default', tags={}>]"
      ]
     },
     "execution_count": 3,
     "metadata": {},
     "output_type": "execute_result"
    }
   ],
   "source": [
    "client.search_experiments()"
   ]
  },
  {
   "cell_type": "code",
   "execution_count": 4,
   "id": "60209651",
   "metadata": {},
   "outputs": [
    {
     "data": {
      "text/plain": [
       "'2'"
      ]
     },
     "execution_count": 4,
     "metadata": {},
     "output_type": "execute_result"
    }
   ],
   "source": [
    "client.create_experiment(name = 'just-for-test')"
   ]
  },
  {
   "cell_type": "code",
   "execution_count": 11,
   "id": "90e8c1f6",
   "metadata": {},
   "outputs": [],
   "source": [
    "from mlflow.entities import ViewType\n",
    "\n",
    "runs = client.search_runs(experiment_ids = '1',\n",
    "                   filter_string ='metrics.rmse < 7', \n",
    "                   run_view_type=ViewType.ACTIVE_ONLY,\n",
    "                   max_results=5,\n",
    "                   order_by = ['metrics.rmse ASC'])"
   ]
  },
  {
   "cell_type": "code",
   "execution_count": 12,
   "id": "0faad43f",
   "metadata": {},
   "outputs": [
    {
     "data": {
      "text/plain": [
       "[<Run: data=<RunData: metrics={'rmse': 6.411271041406116}, params={'learning_rate': '0.205',\n",
       "  'max_depth': '17',\n",
       "  'min_child_weright': '1.24',\n",
       "  'objective': 'reg:linear',\n",
       "  'reg_alpha': '0.2856789',\n",
       "  'reg_lambda': '0.0042644',\n",
       "  'seed': '42'}, tags={'mlflow.log-model.history': '[{\"run_id\": \"995385cc53d44a12864148edf8068bda\", '\n",
       "                              '\"artifact_path\": \"model_mlflow\", '\n",
       "                              '\"utc_time_created\": \"2025-08-05 '\n",
       "                              '20:49:31.790683\", \"flavors\": {\"python_function\": '\n",
       "                              '{\"loader_module\": \"mlflow.xgboost\", '\n",
       "                              '\"python_version\": \"3.9.12\", \"data\": \"model.xgb\", '\n",
       "                              '\"env\": \"conda.yaml\"}, \"xgboost\": {\"xgb_version\": '\n",
       "                              '\"2.1.4\", \"data\": \"model.xgb\", \"model_class\": '\n",
       "                              '\"xgboost.core.Booster\", \"code\": null}}, '\n",
       "                              '\"model_uuid\": '\n",
       "                              '\"d30810e4806347d88d0933217c48cd22\", '\n",
       "                              '\"mlflow_version\": \"1.30.0\"}]',\n",
       "  'mlflow.runName': 'legendary-fox-671',\n",
       "  'mlflow.source.name': '/home/codespace/anaconda3/lib/python3.9/site-packages/ipykernel_launcher.py',\n",
       "  'mlflow.source.type': 'LOCAL',\n",
       "  'mlflow.user': 'codespace'}>, info=<RunInfo: artifact_uri='./mlruns/1/995385cc53d44a12864148edf8068bda/artifacts', end_time=1754426973523, experiment_id='1', lifecycle_stage='active', run_id='995385cc53d44a12864148edf8068bda', run_name='legendary-fox-671', run_uuid='995385cc53d44a12864148edf8068bda', start_time=1754426860488, status='FINISHED', user_id='codespace'>>,\n",
       " <Run: data=<RunData: metrics={'best_iteration': 971.0,\n",
       "  'rmse': 6.411271041406116,\n",
       "  'stopped_iteration': 999.0,\n",
       "  'validation-rmse': 6.4099671907926155}, params={'custom_metric': 'None',\n",
       "  'early_stopping_rounds': '50',\n",
       "  'learning_rate': '0.205',\n",
       "  'max_depth': '17',\n",
       "  'maximize': 'None',\n",
       "  'min_child_weright': '1.24',\n",
       "  'num_boost_round': '1000',\n",
       "  'objective': 'reg:linear',\n",
       "  'reg_alpha': '0.2856789',\n",
       "  'reg_lambda': '0.0042644',\n",
       "  'seed': '42',\n",
       "  'verbose_eval': 'True'}, tags={'mlflow.log-model.history': '[{\"run_id\": \"7d8fcbea9cbd45828a50ee59f0db0029\", '\n",
       "                              '\"artifact_path\": \"model\", \"utc_time_created\": '\n",
       "                              '\"2025-08-05 20:31:09.687351\", \"flavors\": '\n",
       "                              '{\"python_function\": {\"loader_module\": '\n",
       "                              '\"mlflow.xgboost\", \"python_version\": \"3.9.12\", '\n",
       "                              '\"data\": \"model.xgb\", \"env\": \"conda.yaml\"}, '\n",
       "                              '\"xgboost\": {\"xgb_version\": \"2.1.4\", \"data\": '\n",
       "                              '\"model.xgb\", \"model_class\": '\n",
       "                              '\"xgboost.core.Booster\", \"code\": null}}, '\n",
       "                              '\"model_uuid\": '\n",
       "                              '\"7582009bf18b47a092e1c0d00c7efda8\", '\n",
       "                              '\"mlflow_version\": \"1.30.0\"}, {\"run_id\": '\n",
       "                              '\"7d8fcbea9cbd45828a50ee59f0db0029\", '\n",
       "                              '\"artifact_path\": \"model_mlflow\", '\n",
       "                              '\"utc_time_created\": \"2025-08-05 '\n",
       "                              '20:31:16.704577\", \"flavors\": {\"python_function\": '\n",
       "                              '{\"loader_module\": \"mlflow.xgboost\", '\n",
       "                              '\"python_version\": \"3.9.12\", \"data\": \"model.xgb\", '\n",
       "                              '\"env\": \"conda.yaml\"}, \"xgboost\": {\"xgb_version\": '\n",
       "                              '\"2.1.4\", \"data\": \"model.xgb\", \"model_class\": '\n",
       "                              '\"xgboost.core.Booster\", \"code\": null}}, '\n",
       "                              '\"model_uuid\": '\n",
       "                              '\"e818bd2850094ea6abfaaeef6a95f4bf\", '\n",
       "                              '\"mlflow_version\": \"1.30.0\"}]',\n",
       "  'mlflow.runName': 'stylish-donkey-248',\n",
       "  'mlflow.source.name': '/home/codespace/anaconda3/lib/python3.9/site-packages/ipykernel_launcher.py',\n",
       "  'mlflow.source.type': 'LOCAL',\n",
       "  'mlflow.user': 'codespace'}>, info=<RunInfo: artifact_uri='./mlruns/1/7d8fcbea9cbd45828a50ee59f0db0029/artifacts', end_time=1754425878375, experiment_id='1', lifecycle_stage='active', run_id='7d8fcbea9cbd45828a50ee59f0db0029', run_name='stylish-donkey-248', run_uuid='7d8fcbea9cbd45828a50ee59f0db0029', start_time=1754425724362, status='FINISHED', user_id='codespace'>>,\n",
       " <Run: data=<RunData: metrics={'rmse': 6.742303328497425,\n",
       "  'training_mae': 4.047813167088583,\n",
       "  'training_mse': 34.561167991285814,\n",
       "  'training_r2_score': 0.7415116414882994,\n",
       "  'training_rmse': 5.878874721516509,\n",
       "  'training_score': 0.7415116414882994}, params={'alpha': '0.9',\n",
       "  'ccp_alpha': '0.0',\n",
       "  'criterion': 'friedman_mse',\n",
       "  'init': 'None',\n",
       "  'learning_rate': '0.1',\n",
       "  'loss': 'squared_error',\n",
       "  'max_depth': '3',\n",
       "  'max_features': 'None',\n",
       "  'max_leaf_nodes': 'None',\n",
       "  'min_impurity_decrease': '0.0',\n",
       "  'min_samples_leaf': '1',\n",
       "  'min_samples_split': '2',\n",
       "  'min_weight_fraction_leaf': '0.0',\n",
       "  'n_estimators': '100',\n",
       "  'n_iter_no_change': 'None',\n",
       "  'random_state': 'None',\n",
       "  'subsample': '1.0',\n",
       "  'tol': '0.0001',\n",
       "  'train-data-path': './data/green_tripdata_2021-01.csv',\n",
       "  'valid-data-path': './data/green_tripdata_2021-02.csv',\n",
       "  'validation_fraction': '0.1',\n",
       "  'verbose': '0',\n",
       "  'warm_start': 'False'}, tags={'estimator_class': 'sklearn.ensemble._gb.GradientBoostingRegressor',\n",
       "  'estimator_name': 'GradientBoostingRegressor',\n",
       "  'mlflow.log-model.history': '[{\"run_id\": \"5db0e6c566484f77a11017b084e065a5\", '\n",
       "                              '\"artifact_path\": \"model\", \"utc_time_created\": '\n",
       "                              '\"2025-08-05 21:31:42.213673\", \"flavors\": '\n",
       "                              '{\"python_function\": {\"model_path\": \"model.pkl\", '\n",
       "                              '\"predict_fn\": \"predict\", \"loader_module\": '\n",
       "                              '\"mlflow.sklearn\", \"python_version\": \"3.9.12\", '\n",
       "                              '\"env\": \"conda.yaml\"}, \"sklearn\": '\n",
       "                              '{\"pickled_model\": \"model.pkl\", '\n",
       "                              '\"sklearn_version\": \"1.0.2\", '\n",
       "                              '\"serialization_format\": \"cloudpickle\", \"code\": '\n",
       "                              'null}}, \"model_uuid\": '\n",
       "                              '\"8dfa3a48f3b44ece921324eaf120dffb\", '\n",
       "                              '\"mlflow_version\": \"1.30.0\", \"signature\": '\n",
       "                              '{\"inputs\": \"[{\\\\\"type\\\\\": \\\\\"tensor\\\\\", '\n",
       "                              '\\\\\"tensor-spec\\\\\": {\\\\\"dtype\\\\\": \\\\\"float64\\\\\", '\n",
       "                              '\\\\\"shape\\\\\": [-1, 13221]}}]\", \"outputs\": '\n",
       "                              '\"[{\\\\\"type\\\\\": \\\\\"tensor\\\\\", \\\\\"tensor-spec\\\\\": '\n",
       "                              '{\\\\\"dtype\\\\\": \\\\\"float64\\\\\", \\\\\"shape\\\\\": '\n",
       "                              '[-1]}}]\"}}]',\n",
       "  'mlflow.runName': 'gentle-wasp-614',\n",
       "  'mlflow.source.name': '/home/codespace/anaconda3/lib/python3.9/site-packages/ipykernel_launcher.py',\n",
       "  'mlflow.source.type': 'LOCAL',\n",
       "  'mlflow.user': 'codespace'}>, info=<RunInfo: artifact_uri='./mlruns/1/5db0e6c566484f77a11017b084e065a5/artifacts', end_time=1754429505155, experiment_id='1', lifecycle_stage='active', run_id='5db0e6c566484f77a11017b084e065a5', run_name='gentle-wasp-614', run_uuid='5db0e6c566484f77a11017b084e065a5', start_time=1754429498693, status='FINISHED', user_id='codespace'>>,\n",
       " <Run: data=<RunData: metrics={'rmse': 6.915776975520393,\n",
       "  'training_mae': 1.601042696645603,\n",
       "  'training_mse': 5.802481166526742,\n",
       "  'training_r2_score': 0.9566023395850299,\n",
       "  'training_rmse': 2.4088339848413676,\n",
       "  'training_score': 0.9566023395850299}, params={'bootstrap': 'True',\n",
       "  'ccp_alpha': '0.0',\n",
       "  'criterion': 'squared_error',\n",
       "  'max_depth': 'None',\n",
       "  'max_features': 'auto',\n",
       "  'max_leaf_nodes': 'None',\n",
       "  'max_samples': 'None',\n",
       "  'min_impurity_decrease': '0.0',\n",
       "  'min_samples_leaf': '1',\n",
       "  'min_samples_split': '2',\n",
       "  'min_weight_fraction_leaf': '0.0',\n",
       "  'n_estimators': '100',\n",
       "  'n_jobs': 'None',\n",
       "  'oob_score': 'False',\n",
       "  'random_state': 'None',\n",
       "  'train-data-path': './data/green_tripdata_2021-01.csv',\n",
       "  'valid-data-path': './data/green_tripdata_2021-02.csv',\n",
       "  'verbose': '0',\n",
       "  'warm_start': 'False'}, tags={'estimator_class': 'sklearn.ensemble._forest.RandomForestRegressor',\n",
       "  'estimator_name': 'RandomForestRegressor',\n",
       "  'mlflow.log-model.history': '[{\"run_id\": \"c6596e39d8354a65b78dfb18f6f21f0b\", '\n",
       "                              '\"artifact_path\": \"model\", \"utc_time_created\": '\n",
       "                              '\"2025-08-05 21:31:16.919679\", \"flavors\": '\n",
       "                              '{\"python_function\": {\"model_path\": \"model.pkl\", '\n",
       "                              '\"predict_fn\": \"predict\", \"loader_module\": '\n",
       "                              '\"mlflow.sklearn\", \"python_version\": \"3.9.12\", '\n",
       "                              '\"env\": \"conda.yaml\"}, \"sklearn\": '\n",
       "                              '{\"pickled_model\": \"model.pkl\", '\n",
       "                              '\"sklearn_version\": \"1.0.2\", '\n",
       "                              '\"serialization_format\": \"cloudpickle\", \"code\": '\n",
       "                              'null}}, \"model_uuid\": '\n",
       "                              '\"34542719c06f4864a602e57160da2738\", '\n",
       "                              '\"mlflow_version\": \"1.30.0\", \"signature\": '\n",
       "                              '{\"inputs\": \"[{\\\\\"type\\\\\": \\\\\"tensor\\\\\", '\n",
       "                              '\\\\\"tensor-spec\\\\\": {\\\\\"dtype\\\\\": \\\\\"float64\\\\\", '\n",
       "                              '\\\\\"shape\\\\\": [-1, 13221]}}]\", \"outputs\": '\n",
       "                              '\"[{\\\\\"type\\\\\": \\\\\"tensor\\\\\", \\\\\"tensor-spec\\\\\": '\n",
       "                              '{\\\\\"dtype\\\\\": \\\\\"float64\\\\\", \\\\\"shape\\\\\": '\n",
       "                              '[-1]}}]\"}}]',\n",
       "  'mlflow.runName': 'shivering-tern-651',\n",
       "  'mlflow.source.name': '/home/codespace/anaconda3/lib/python3.9/site-packages/ipykernel_launcher.py',\n",
       "  'mlflow.source.type': 'LOCAL',\n",
       "  'mlflow.user': 'codespace'}>, info=<RunInfo: artifact_uri='./mlruns/1/c6596e39d8354a65b78dfb18f6f21f0b/artifacts', end_time=1754429498686, experiment_id='1', lifecycle_stage='active', run_id='c6596e39d8354a65b78dfb18f6f21f0b', run_name='shivering-tern-651', run_uuid='c6596e39d8354a65b78dfb18f6f21f0b', start_time=1754428858056, status='FINISHED', user_id='codespace'>>]"
      ]
     },
     "execution_count": 12,
     "metadata": {},
     "output_type": "execute_result"
    }
   ],
   "source": [
    "runs"
   ]
  },
  {
   "cell_type": "code",
   "execution_count": 13,
   "id": "82895df4",
   "metadata": {},
   "outputs": [
    {
     "name": "stdout",
     "output_type": "stream",
     "text": [
      "run id:995385cc53d44a12864148edf8068bda, rmse: 6.4113\n",
      "run id:7d8fcbea9cbd45828a50ee59f0db0029, rmse: 6.4113\n",
      "run id:5db0e6c566484f77a11017b084e065a5, rmse: 6.7423\n",
      "run id:c6596e39d8354a65b78dfb18f6f21f0b, rmse: 6.9158\n"
     ]
    }
   ],
   "source": [
    "for run in runs:\n",
    "    print(f\"run id:{run.info.run_id}, rmse: {run.data.metrics['rmse']:.4f}\")"
   ]
  },
  {
   "cell_type": "code",
   "execution_count": null,
   "id": "6ee7827d",
   "metadata": {},
   "outputs": [],
   "source": []
  },
  {
   "cell_type": "markdown",
   "id": "4af41965",
   "metadata": {},
   "source": [
    "## register model"
   ]
  },
  {
   "cell_type": "code",
   "execution_count": 16,
   "id": "8a2f8ba2",
   "metadata": {},
   "outputs": [],
   "source": [
    "import mlflow\n",
    "MLFLOW_TRACKING_URI = 'sqlite:///mlflow.db'\n",
    "mlflow.set_tracking_uri(MLFLOW_TRACKING_URI)"
   ]
  },
  {
   "cell_type": "code",
   "execution_count": 17,
   "id": "22e2310e",
   "metadata": {},
   "outputs": [
    {
     "name": "stderr",
     "output_type": "stream",
     "text": [
      "Registered model 'nyc-taxi-regressor' already exists. Creating a new version of this model...\n",
      "2025/08/06 20:20:42 INFO mlflow.tracking._model_registry.client: Waiting up to 300 seconds for model version to finish creation.                     Model name: nyc-taxi-regressor, version 3\n",
      "Created version '3' of model 'nyc-taxi-regressor'.\n"
     ]
    },
    {
     "data": {
      "text/plain": [
       "<ModelVersion: creation_timestamp=1754511642693, current_stage='None', description=None, last_updated_timestamp=1754511642693, name='nyc-taxi-regressor', run_id='c6596e39d8354a65b78dfb18f6f21f0b', run_link=None, source='./mlruns/1/c6596e39d8354a65b78dfb18f6f21f0b/artifacts/model', status='READY', status_message=None, tags={}, user_id=None, version=3>"
      ]
     },
     "execution_count": 17,
     "metadata": {},
     "output_type": "execute_result"
    }
   ],
   "source": [
    "run_id = 'c6596e39d8354a65b78dfb18f6f21f0b'\n",
    "model_uri = f'runs:/{run_id}/model'\n",
    "mlflow.register_model(model_uri=model_uri, name = 'nyc-taxi-regressor')"
   ]
  },
  {
   "cell_type": "code",
   "execution_count": null,
   "id": "bb7c012a",
   "metadata": {},
   "outputs": [],
   "source": []
  },
  {
   "cell_type": "markdown",
   "id": "19c62045",
   "metadata": {},
   "source": [
    "## transition of model to different stage"
   ]
  },
  {
   "cell_type": "code",
   "execution_count": 19,
   "id": "98521e04",
   "metadata": {},
   "outputs": [
    {
     "name": "stdout",
     "output_type": "stream",
     "text": [
      "version:2,stage:Staging\n",
      "version:3,stage:None\n"
     ]
    }
   ],
   "source": [
    "model_name = 'nyc-taxi-regressor'\n",
    "latest_versions = client.get_latest_versions(name=model_name)\n",
    "\n",
    "for version in latest_versions:\n",
    "    print(f'version:{version.version},stage:{version.current_stage}')\n"
   ]
  },
  {
   "cell_type": "code",
   "execution_count": 20,
   "id": "526bc2cd",
   "metadata": {},
   "outputs": [
    {
     "data": {
      "text/plain": [
       "<ModelVersion: creation_timestamp=1754511642693, current_stage='Staging', description=None, last_updated_timestamp=1754512003018, name='nyc-taxi-regressor', run_id='c6596e39d8354a65b78dfb18f6f21f0b', run_link=None, source='./mlruns/1/c6596e39d8354a65b78dfb18f6f21f0b/artifacts/model', status='READY', status_message=None, tags={}, user_id=None, version=3>"
      ]
     },
     "execution_count": 20,
     "metadata": {},
     "output_type": "execute_result"
    }
   ],
   "source": [
    "client.transition_model_version_stage(name=model_name,\n",
    "                                      version=3,\n",
    "                                      stage='Staging',\n",
    "                                      archive_existing_versions=False)"
   ]
  },
  {
   "cell_type": "code",
   "execution_count": null,
   "id": "659054c1",
   "metadata": {},
   "outputs": [],
   "source": []
  },
  {
   "cell_type": "markdown",
   "id": "0643e3cb",
   "metadata": {},
   "source": [
    "## Compare model performance between staging and production"
   ]
  },
  {
   "cell_type": "code",
   "execution_count": null,
   "id": "0b8bbd05",
   "metadata": {},
   "outputs": [],
   "source": [
    "from sklearn.metrics import mean_squared_error\n",
    "import pandas as pd\n",
    "\n",
    "\n",
    "def read_dataframe(filename):\n",
    "    df = pd.read_parquet(filename)\n",
    "\n",
    "    df.lpep_dropoff_datetime = pd.to_datetime(df.lpep_dropoff_datetime)\n",
    "    df.lpep_pickup_datetime = pd.to_datetime(df.lpep_pickup_datetime)\n",
    "\n",
    "    df['duration'] = df.lpep_dropoff_datetime - df.lpep_pickup_datetime\n",
    "    df.duration = df.duration.apply(lambda td: td.total_seconds() / 60)\n",
    "\n",
    "    df = df[(df.duration >= 1) & (df.duration <= 60)]\n",
    "\n",
    "    categorical = ['PULocationID', 'DOLocationID']\n",
    "    df[categorical] = df[categorical].astype(str)\n",
    "    \n",
    "    return df\n",
    "\n",
    "\n",
    "def preprocess(df, dv):\n",
    "    df['PU_DO'] = df['PULocationID'] + '_' + df['DOLocationID']\n",
    "    categorical = ['PU_DO']\n",
    "    numerical = ['trip_distance']\n",
    "    train_dicts = df[categorical + numerical].to_dict(orient='records')\n",
    "    return dv.transform(train_dicts)\n",
    "\n",
    "\n",
    "def test_model(name, stage, X_test, y_test):\n",
    "    model = mlflow.pyfunc.load_model(f\"models:/{name}/{stage}\")\n",
    "    y_pred = model.predict(X_test)\n",
    "    return {\"rmse\": mean_squared_error(y_test, y_pred, squared=False)}"
   ]
  },
  {
   "cell_type": "code",
   "execution_count": 24,
   "id": "45dc146f",
   "metadata": {},
   "outputs": [
    {
     "data": {
      "text/plain": [
       "'/workspaces/MLops-practice/02-experiment-tracking/preprocessor'"
      ]
     },
     "execution_count": 24,
     "metadata": {},
     "output_type": "execute_result"
    }
   ],
   "source": [
    "df = read_dataframe('data/green_tripdata_2021-02.parquet')\n",
    "client.download_artifacts(run_id=run_id, path='preprocessor',dst_path='.')\n"
   ]
  },
  {
   "cell_type": "code",
   "execution_count": 26,
   "id": "6face563",
   "metadata": {},
   "outputs": [],
   "source": [
    "import pickle\n",
    "\n",
    "with open(\"preprocessor/preprocessor.b\",'rb') as f_in:\n",
    "    dv = pickle.load(f_in)"
   ]
  },
  {
   "cell_type": "code",
   "execution_count": 27,
   "id": "31e59d61",
   "metadata": {},
   "outputs": [],
   "source": [
    "X_test = preprocess(df,dv)\n",
    "target = 'duration'\n",
    "y_test = df[target].values"
   ]
  },
  {
   "cell_type": "code",
   "execution_count": 29,
   "id": "7f034b18",
   "metadata": {},
   "outputs": [
    {
     "name": "stdout",
     "output_type": "stream",
     "text": [
      "CPU times: user 8.7 s, sys: 110 ms, total: 8.81 s\n",
      "Wall time: 9.8 s\n"
     ]
    },
    {
     "data": {
      "text/plain": [
       "{'rmse': 6.411271041406116}"
      ]
     },
     "execution_count": 29,
     "metadata": {},
     "output_type": "execute_result"
    }
   ],
   "source": [
    "%time test_model(name= model_name, stage=\"Production\", X_test = X_test, y_test = y_test)"
   ]
  },
  {
   "cell_type": "code",
   "execution_count": 31,
   "id": "8c91b971",
   "metadata": {},
   "outputs": [
    {
     "name": "stdout",
     "output_type": "stream",
     "text": [
      "CPU times: user 79.8 ms, sys: 3.84 ms, total: 83.6 ms\n",
      "Wall time: 98.2 ms\n"
     ]
    },
    {
     "data": {
      "text/plain": [
       "{'rmse': 6.742303328497425}"
      ]
     },
     "execution_count": 31,
     "metadata": {},
     "output_type": "execute_result"
    }
   ],
   "source": [
    "%time test_model(name= model_name, stage=\"Staging\", X_test = X_test, y_test = y_test)"
   ]
  },
  {
   "cell_type": "code",
   "execution_count": null,
   "id": "e5f4bcf0",
   "metadata": {},
   "outputs": [],
   "source": []
  }
 ],
 "metadata": {
  "kernelspec": {
   "display_name": "base",
   "language": "python",
   "name": "python3"
  },
  "language_info": {
   "codemirror_mode": {
    "name": "ipython",
    "version": 3
   },
   "file_extension": ".py",
   "mimetype": "text/x-python",
   "name": "python",
   "nbconvert_exporter": "python",
   "pygments_lexer": "ipython3",
   "version": "3.9.12"
  }
 },
 "nbformat": 4,
 "nbformat_minor": 5
}
